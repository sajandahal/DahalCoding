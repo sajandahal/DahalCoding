{
 "cells": [
  {
   "cell_type": "markdown",
   "id": "0e8ab2d8",
   "metadata": {},
   "source": [
    "# Data Science Tools and Ecosystem\n"
   ]
  },
  {
   "cell_type": "markdown",
   "id": "c9d2cf54",
   "metadata": {},
   "source": [
    "In this notebook, Data Science Tools and Ecosystem are summarized.\n"
   ]
  },
  {
   "cell_type": "markdown",
   "id": "1e2cf45a",
   "metadata": {},
   "source": [
    "**Objectives:**\n",
    "\n",
    "- **Languages**: Python, R, and Julia are popular programming languages for data science.\n",
    "- **Libraries**: Key libraries like NumPy, Pandas, Matplotlib, and Scikit-Learn facilitate data manipulation and analysis.\n",
    "- **Development Environments**: Jupyter Notebook, RStudio, and Visual Studio Code are commonly used for coding and collaboration.\n",
    "- **Data Visualization**: Tools like Matplotlib, Seaborn, and Tableau assist in creating informative visualizations.\n",
    "- **Ecosystem**: Data science encompasses various data storage solutions, cloud platforms, and specialized hardware for machine learning.\n",
    "- **Machine Learning Frameworks**: TensorFlow and PyTorch are prominent frameworks for building and deploying machine learning models.\n",
    "- **Version Control**: Git and platforms like GitHub aid in project management and collaboration.\n",
    "- **Online Learning Resources**: A wealth of online courses, tutorials, and community forums support continuous learning in data science.\n",
    "\n"
   ]
  },
  {
   "cell_type": "markdown",
   "id": "c7283547",
   "metadata": {},
   "source": [
    "A portion of the famous dialects that Data Scientists use are:\n",
    "\n",
    "1. Python\n",
    "2. R\n",
    "3. Julia\n",
    "4. SQL\n",
    "5. Scala"
   ]
  },
  {
   "cell_type": "markdown",
   "id": "c7b334bb",
   "metadata": {},
   "source": [
    "A portion of the usually utilized libraries utilized by Data Scientists include:\n",
    "\n",
    "1. NumPy\n",
    "2. Pandas\n",
    "3. Matplotlib\n",
    "4. Seaborn\n",
    "5. Scikit-Learn"
   ]
  },
  {
   "cell_type": "markdown",
   "id": "0de58b61",
   "metadata": {},
   "source": [
    "| Data Science Tools        |\n",
    "|--------------------------|\n",
    "| Jupyter Notebook         |\n",
    "| RStudio                  |\n",
    "| Visual Studio Code (VS Code) |\n"
   ]
  },
  {
   "cell_type": "markdown",
   "id": "30f505de",
   "metadata": {},
   "source": [
    "### Examples of Evaluating Arithmetic Expressions in Python\n",
    "\n",
    "In this section, we'll explore a few examples of evaluating arithmetic expressions in Python.\n"
   ]
  },
  {
   "cell_type": "code",
   "execution_count": 1,
   "id": "ddac28ff",
   "metadata": {},
   "outputs": [
    {
     "data": {
      "text/plain": [
       "17"
      ]
     },
     "execution_count": 1,
     "metadata": {},
     "output_type": "execute_result"
    }
   ],
   "source": [
    "# This is a simple arithmetic expression to multiply and then add integers.\n",
    "result = (3 * 4) + 5\n",
    "result\n"
   ]
  },
  {
   "cell_type": "code",
   "execution_count": 2,
   "id": "592b3478",
   "metadata": {},
   "outputs": [
    {
     "data": {
      "text/plain": [
       "3.3333333333333335"
      ]
     },
     "execution_count": 2,
     "metadata": {},
     "output_type": "execute_result"
    }
   ],
   "source": [
    "# This will convert 200 minutes to hours by dividing by 60.\n",
    "minutes = 200\n",
    "hours = minutes / 60\n",
    "hours\n"
   ]
  },
  {
   "cell_type": "markdown",
   "id": "32abb803",
   "metadata": {},
   "source": [
    "## Author\n",
    "Sajan Dahal\n"
   ]
  }
 ],
 "metadata": {
  "kernelspec": {
   "display_name": "Python 3 (ipykernel)",
   "language": "python",
   "name": "python3"
  },
  "language_info": {
   "codemirror_mode": {
    "name": "ipython",
    "version": 3
   },
   "file_extension": ".py",
   "mimetype": "text/x-python",
   "name": "python",
   "nbconvert_exporter": "python",
   "pygments_lexer": "ipython3",
   "version": "3.11.0"
  }
 },
 "nbformat": 4,
 "nbformat_minor": 5
}
